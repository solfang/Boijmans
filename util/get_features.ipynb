{
 "cells": [
  {
   "cell_type": "markdown",
   "source": [
    "Calculates feature vectors of an image dataset using the Deep Image Retrieval NN.\n",
    "Automates these steps, which would normally be run manually:\n",
    "- creates an image list (db_all.txt)\n",
    "- creates the command line command (for Windows) including escaping backspaces etc.\n",
    "- exectues the command\n",
    "\n",
    "This requires having https://github.com/naver/deep-image-retrieval downloaded into a folder called 'deep-image-retrieval-repo'.\n",
    "Make sure you also download a model. I was using Resnet101-AP-GeM-LM18, stored in deep-image-retrieval-repo/dirtorch/models\n",
    "\n",
    "The folder structure should be as follows:\n",
    "\n",
    "- Dummy Image Dataset\n",
    "    - Images\n",
    "- util\n",
    "    - get_features.ipynb\n",
    "- deep-image-retrieval-repo\n",
    "    - dirtorch\n",
    "    - README.md\n",
    "    - ..."
   ],
   "metadata": {
    "collapsed": false,
    "pycharm": {
     "name": "#%% md\n"
    }
   }
  },
  {
   "cell_type": "code",
   "execution_count": 1,
   "outputs": [],
   "source": [
    "import os\n",
    "\n",
    "# path to the image folder w.r.t deep-image-retrieval-repo\n",
    "image_folder = \"../Dummy Image Dataset/Images\"\n",
    "\n",
    "image_list_file = \"../Dummy Image Dataset/db_all.txt\"\n",
    "image_list = os.listdir(image_folder)\n",
    "\n",
    "with open(image_list_file, \"w\") as f:\n",
    "    f.write(\"\\n\".join(image_list))\n",
    "\n",
    "# w.r.t deep-image-retrieval-repo\n",
    "output_file = \"../Dummy Image Dataset/boijmans_dummy_features.npy\"\n",
    "\n",
    "dataset_str = \"\\\"ImageList(\\\\\\\"{}\\\\\\\" , \\\\\\\"{}\\\\\\\")\\\"\".format(image_list_file,image_folder )"
   ],
   "metadata": {
    "collapsed": false,
    "pycharm": {
     "name": "#%%\n"
    }
   }
  },
  {
   "cell_type": "code",
   "execution_count": 2,
   "outputs": [
    {
     "name": "stdout",
     "output_type": "stream",
     "text": [
      "C:\\Users\\Nutzer\\Documents\\IDP2\\MySpace\\IdP2 - gitlab\\BoijmansPaper\n",
      "C:\\Users\\Nutzer\\Documents\\IDP2\\MySpace\\IdP2 - gitlab\\BoijmansPaper\\deep-image-retrieval-repo\n",
      "python -m dirtorch.extract_features --dataset \"ImageList(\\\"../Dummy Image Dataset/db_all.txt\\\" , \\\"../Dummy Image Dataset/Images\\\")\" --checkpoint dirtorch/models/Resnet101-AP-GeM-LM18.pt --output \"../Dummy Image Dataset/boijmans_dummy_features.npy\" --whiten Landmarks_clean --whitenp 0.25 --gpu 0\n"
     ]
    }
   ],
   "source": [
    "# if this doesn't run successfully we need to restart the kernel to reset the working directory\n",
    "%cd ..\n",
    "%cd deep-image-retrieval-repo\n",
    "# !ls\n",
    "\n",
    "# # not used but needs to be set\n",
    "os.environ['DB_ROOT'] = \"dummy\"\n",
    "\n",
    "command = \"-m dirtorch.extract_features --dataset {} --checkpoint dirtorch/models/Resnet101-AP-GeM-LM18.pt --output \\\"{}\\\" --whiten Landmarks_clean --whitenp 0.25 --gpu 0\".format(dataset_str, output_file)\n",
    "# can run the command manually too if running it per jupyter shell doesn't work. (make sure to set environment variable DB_ROOT to any variable before)\n",
    "print(\"python\",command)"
   ],
   "metadata": {
    "collapsed": false,
    "pycharm": {
     "name": "#%%\n"
    }
   }
  },
  {
   "cell_type": "code",
   "execution_count": 3,
   "outputs": [
    {
     "name": "stdout",
     "output_type": "stream",
     "text": [
      "Launching on GPUs 0\n",
      "Dataset: Dataset: ImageList\n",
      "  50 images\n",
      "  root: ../Dummy Image Dataset/Images...\n",
      "=> loading checkpoint 'dirtorch/models/Resnet101-AP-GeM-LM18.pt' (current_iter 376)\n",
      "\n",
      ">> Extracting features...\n",
      "Features extracted.\n"
     ]
    },
    {
     "name": "stderr",
     "output_type": "stream",
     "text": [
      "C:\\Users\\Nutzer\\AppData\\Local\\Programs\\Python\\Python37\\lib\\site-packages\\sklearn\\utils\\deprecation.py:143: FutureWarning: The sklearn.decomposition.pca module is  deprecated in version 0.22 and will be removed in version 0.24. The corresponding classes / functions should instead be imported from sklearn.decomposition. Anything that cannot be imported from sklearn.decomposition is now part of the private API.\n",
      "  warnings.warn(message, FutureWarning)\n",
      "C:\\Users\\Nutzer\\AppData\\Local\\Programs\\Python\\Python37\\lib\\site-packages\\sklearn\\base.py:334: UserWarning: Trying to unpickle estimator PCA from version 0.20.2 when using version 0.23.1. This might lead to breaking code or invalid results. Use at your own risk.\n",
      "  UserWarning)\n",
      "\n",
      "DB:   0%|          | 0/50 [00:00<?, ?it/s]\n",
      "DB:   2%|2         | 1/50 [00:03<02:42,  3.32s/it]\n",
      "DB:  12%|#2        | 6/50 [00:03<00:18,  2.35it/s]\n",
      "DB:  24%|##4       | 12/50 [00:03<00:07,  5.36it/s]\n",
      "DB:  32%|###2      | 16/50 [00:03<00:05,  6.76it/s]\n",
      "DB:  38%|###8      | 19/50 [00:04<00:04,  7.51it/s]\n",
      "DB:  42%|####2     | 21/50 [00:04<00:03,  8.45it/s]\n",
      "DB:  46%|####6     | 23/50 [00:04<00:02,  9.30it/s]\n",
      "DB:  50%|#####     | 25/50 [00:04<00:02,  9.77it/s]\n",
      "DB:  54%|#####4    | 27/50 [00:04<00:02, 10.18it/s]\n",
      "DB:  58%|#####8    | 29/50 [00:04<00:01, 11.42it/s]\n",
      "DB:  62%|######2   | 31/50 [00:05<00:01, 12.25it/s]\n",
      "DB:  66%|######6   | 33/50 [00:05<00:01, 11.88it/s]\n",
      "DB:  70%|#######   | 35/50 [00:05<00:01, 11.91it/s]\n",
      "DB:  74%|#######4  | 37/50 [00:05<00:01, 11.45it/s]\n",
      "DB:  78%|#######8  | 39/50 [00:05<00:01, 10.67it/s]\n",
      "DB:  84%|########4 | 42/50 [00:05<00:00, 13.54it/s]\n",
      "DB:  88%|########8 | 44/50 [00:06<00:00, 12.61it/s]\n",
      "DB:  92%|#########2| 46/50 [00:06<00:00, 12.64it/s]\n",
      "DB:  96%|#########6| 48/50 [00:06<00:00, 11.40it/s]\n",
      "DB: 100%|##########| 50/50 [00:06<00:00, 11.75it/s]\n",
      "DB: 100%|##########| 50/50 [00:06<00:00,  7.17it/s]\n"
     ]
    }
   ],
   "source": [
    "# this can take a while to compute (on cmdline it normally shows a progress bar) (~0.1s per image at 1050x1050 pixels on a Nvidia 2060 Super)\n",
    "!python {command}"
   ],
   "metadata": {
    "collapsed": false,
    "pycharm": {
     "name": "#%%\n"
    }
   }
  }
 ],
 "metadata": {
  "kernelspec": {
   "display_name": "Python 3",
   "language": "python",
   "name": "python3"
  },
  "language_info": {
   "codemirror_mode": {
    "name": "ipython",
    "version": 2
   },
   "file_extension": ".py",
   "mimetype": "text/x-python",
   "name": "python",
   "nbconvert_exporter": "python",
   "pygments_lexer": "ipython2",
   "version": "2.7.6"
  }
 },
 "nbformat": 4,
 "nbformat_minor": 0
}